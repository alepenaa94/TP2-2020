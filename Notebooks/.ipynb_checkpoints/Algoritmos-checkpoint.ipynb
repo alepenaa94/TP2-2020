{
 "cells": [
  {
   "cell_type": "markdown",
   "metadata": {},
   "source": [
    "# Algoritmos de Machine Learning"
   ]
  },
  {
   "cell_type": "markdown",
   "metadata": {},
   "source": [
    "En este Notebook, usaremos los Dataframes creados en el Notebook de Features para entrenar distintos modelos de Machine Learning y predecir si los tweets son reales o no."
   ]
  },
  {
   "cell_type": "code",
   "execution_count": 1,
   "metadata": {},
   "outputs": [],
   "source": [
    "import pandas as pd\n",
    "import numpy as np\n",
    "import matplotlib.pyplot as plt\n",
    "from sklearn.model_selection import train_test_split\n",
    "from sklearn.preprocessing import StandardScaler\n",
    "from sklearn.metrics import classification_report, confusion_matrix, accuracy_score\n",
    "\n",
    "import warnings \n",
    "warnings.filterwarnings('ignore')"
   ]
  },
  {
   "cell_type": "markdown",
   "metadata": {},
   "source": [
    "## Carga de dataframes"
   ]
  },
  {
   "cell_type": "code",
   "execution_count": 2,
   "metadata": {},
   "outputs": [],
   "source": [
    "train_df = pd.read_csv('../Data/train_features.csv', encoding='latin-1',dtype={'id': np.uint16,'target': np.bool})\n",
    "test_df = pd.read_csv('../Data/test_features.csv', encoding='latin-1',dtype={'id': np.uint16})\n",
    "sample_submission = pd.read_csv('../Data/sample_submission.csv')"
   ]
  },
  {
   "cell_type": "code",
   "execution_count": 3,
   "metadata": {
    "scrolled": true
   },
   "outputs": [
    {
     "data": {
      "text/html": [
       "<div>\n",
       "<style scoped>\n",
       "    .dataframe tbody tr th:only-of-type {\n",
       "        vertical-align: middle;\n",
       "    }\n",
       "\n",
       "    .dataframe tbody tr th {\n",
       "        vertical-align: top;\n",
       "    }\n",
       "\n",
       "    .dataframe thead th {\n",
       "        text-align: right;\n",
       "    }\n",
       "</style>\n",
       "<table border=\"1\" class=\"dataframe\">\n",
       "  <thead>\n",
       "    <tr style=\"text-align: right;\">\n",
       "      <th></th>\n",
       "      <th>id</th>\n",
       "      <th>target</th>\n",
       "      <th>cantidad_de_palabras</th>\n",
       "      <th>longitud_del_tweet</th>\n",
       "      <th>longitud_categ</th>\n",
       "      <th>tiene_menciones</th>\n",
       "      <th>es_expresivo</th>\n",
       "      <th>cantidad_de_hashtags</th>\n",
       "      <th>tiene_links</th>\n",
       "      <th>location_unico</th>\n",
       "      <th>keyword_encoded</th>\n",
       "      <th>tfidf_score</th>\n",
       "    </tr>\n",
       "  </thead>\n",
       "  <tbody>\n",
       "    <tr>\n",
       "      <td>0</td>\n",
       "      <td>1</td>\n",
       "      <td>True</td>\n",
       "      <td>13</td>\n",
       "      <td>69</td>\n",
       "      <td>0.285123</td>\n",
       "      <td>0</td>\n",
       "      <td>0</td>\n",
       "      <td>1</td>\n",
       "      <td>0</td>\n",
       "      <td>0</td>\n",
       "      <td>0.527739</td>\n",
       "      <td>18.132632</td>\n",
       "    </tr>\n",
       "    <tr>\n",
       "      <td>1</td>\n",
       "      <td>4</td>\n",
       "      <td>True</td>\n",
       "      <td>7</td>\n",
       "      <td>38</td>\n",
       "      <td>0.285123</td>\n",
       "      <td>0</td>\n",
       "      <td>0</td>\n",
       "      <td>0</td>\n",
       "      <td>0</td>\n",
       "      <td>0</td>\n",
       "      <td>0.527739</td>\n",
       "      <td>39.483954</td>\n",
       "    </tr>\n",
       "  </tbody>\n",
       "</table>\n",
       "</div>"
      ],
      "text/plain": [
       "   id  target  cantidad_de_palabras  longitud_del_tweet  longitud_categ  \\\n",
       "0   1    True                    13                  69        0.285123   \n",
       "1   4    True                     7                  38        0.285123   \n",
       "\n",
       "   tiene_menciones  es_expresivo  cantidad_de_hashtags  tiene_links  \\\n",
       "0                0             0                     1            0   \n",
       "1                0             0                     0            0   \n",
       "\n",
       "   location_unico  keyword_encoded  tfidf_score  \n",
       "0               0         0.527739    18.132632  \n",
       "1               0         0.527739    39.483954  "
      ]
     },
     "execution_count": 3,
     "metadata": {},
     "output_type": "execute_result"
    }
   ],
   "source": [
    "train_df.head(2)"
   ]
  },
  {
   "cell_type": "code",
   "execution_count": 4,
   "metadata": {
    "scrolled": true
   },
   "outputs": [
    {
     "data": {
      "text/html": [
       "<div>\n",
       "<style scoped>\n",
       "    .dataframe tbody tr th:only-of-type {\n",
       "        vertical-align: middle;\n",
       "    }\n",
       "\n",
       "    .dataframe tbody tr th {\n",
       "        vertical-align: top;\n",
       "    }\n",
       "\n",
       "    .dataframe thead th {\n",
       "        text-align: right;\n",
       "    }\n",
       "</style>\n",
       "<table border=\"1\" class=\"dataframe\">\n",
       "  <thead>\n",
       "    <tr style=\"text-align: right;\">\n",
       "      <th></th>\n",
       "      <th>id</th>\n",
       "      <th>cantidad_de_palabras</th>\n",
       "      <th>longitud_del_tweet</th>\n",
       "      <th>longitud_categ</th>\n",
       "      <th>tiene_menciones</th>\n",
       "      <th>es_expresivo</th>\n",
       "      <th>cantidad_de_hashtags</th>\n",
       "      <th>tiene_links</th>\n",
       "      <th>location_unico</th>\n",
       "      <th>keyword_encoded</th>\n",
       "      <th>tfidf_score</th>\n",
       "    </tr>\n",
       "  </thead>\n",
       "  <tbody>\n",
       "    <tr>\n",
       "      <td>0</td>\n",
       "      <td>0</td>\n",
       "      <td>6</td>\n",
       "      <td>34</td>\n",
       "      <td>0.285123</td>\n",
       "      <td>0</td>\n",
       "      <td>0</td>\n",
       "      <td>0</td>\n",
       "      <td>0</td>\n",
       "      <td>0</td>\n",
       "      <td>0.527739</td>\n",
       "      <td>74.111794</td>\n",
       "    </tr>\n",
       "    <tr>\n",
       "      <td>1</td>\n",
       "      <td>2</td>\n",
       "      <td>9</td>\n",
       "      <td>64</td>\n",
       "      <td>0.285123</td>\n",
       "      <td>0</td>\n",
       "      <td>0</td>\n",
       "      <td>1</td>\n",
       "      <td>0</td>\n",
       "      <td>0</td>\n",
       "      <td>0.527739</td>\n",
       "      <td>0.000000</td>\n",
       "    </tr>\n",
       "  </tbody>\n",
       "</table>\n",
       "</div>"
      ],
      "text/plain": [
       "   id  cantidad_de_palabras  longitud_del_tweet  longitud_categ  \\\n",
       "0   0                     6                  34        0.285123   \n",
       "1   2                     9                  64        0.285123   \n",
       "\n",
       "   tiene_menciones  es_expresivo  cantidad_de_hashtags  tiene_links  \\\n",
       "0                0             0                     0            0   \n",
       "1                0             0                     1            0   \n",
       "\n",
       "   location_unico  keyword_encoded  tfidf_score  \n",
       "0               0         0.527739    74.111794  \n",
       "1               0         0.527739     0.000000  "
      ]
     },
     "execution_count": 4,
     "metadata": {},
     "output_type": "execute_result"
    }
   ],
   "source": [
    "test_df.head(2)"
   ]
  },
  {
   "cell_type": "markdown",
   "metadata": {},
   "source": [
    "## Algoritmos"
   ]
  },
  {
   "cell_type": "markdown",
   "metadata": {},
   "source": [
    "### Random Forest"
   ]
  },
  {
   "cell_type": "markdown",
   "metadata": {},
   "source": [
    "###### Entrenamiento"
   ]
  },
  {
   "cell_type": "code",
   "execution_count": 5,
   "metadata": {},
   "outputs": [],
   "source": [
    "X = train_df.sort_values(by='id',ascending=True).iloc[:,2:]\n",
    "Y = train_df.sort_values(by='id',ascending=True).iloc[:,1]"
   ]
  },
  {
   "cell_type": "code",
   "execution_count": 6,
   "metadata": {},
   "outputs": [],
   "source": [
    "X_train, X_test, Y_train, Y_test = train_test_split(X,Y,test_size=0.2, random_state=1)"
   ]
  },
  {
   "cell_type": "markdown",
   "metadata": {},
   "source": [
    "Esto es algo muy básico, se podría jugar más con los hiper-parámetros del RF pero de momento la prioridad va a ser crear features."
   ]
  },
  {
   "cell_type": "code",
   "execution_count": 7,
   "metadata": {},
   "outputs": [],
   "source": [
    "from sklearn.ensemble import RandomForestClassifier\n",
    "\n",
    "accuracy = 0\n",
    "cant_arboles_optimos = 0\n",
    "\n",
    "for i in range(150):\n",
    "    rf_classifier = RandomForestClassifier(n_estimators=i+1, random_state=1)\n",
    "    rf_classifier.fit(X_train, Y_train)\n",
    "    Y_pred = rf_classifier.predict(X_test)\n",
    "        \n",
    "    if (accuracy < accuracy_score(Y_test,Y_pred)):\n",
    "        accuracy = accuracy_score(Y_test,Y_pred)\n",
    "        cant_arboles_optimos = i+1"
   ]
  },
  {
   "cell_type": "code",
   "execution_count": 8,
   "metadata": {},
   "outputs": [
    {
     "name": "stdout",
     "output_type": "stream",
     "text": [
      "Arboles: 112\n",
      "Accuracy: 0.7701904136572554\n"
     ]
    }
   ],
   "source": [
    "print('Arboles:',cant_arboles_optimos)\n",
    "print('Accuracy:',accuracy)"
   ]
  },
  {
   "cell_type": "code",
   "execution_count": 9,
   "metadata": {},
   "outputs": [],
   "source": [
    "rf_classifier = RandomForestClassifier(n_estimators=cant_arboles_optimos, random_state=1)\n",
    "rf_classifier.fit(X_train, Y_train)\n",
    "Y_pred = rf_classifier.predict(X_test)"
   ]
  },
  {
   "cell_type": "code",
   "execution_count": 10,
   "metadata": {},
   "outputs": [
    {
     "name": "stdout",
     "output_type": "stream",
     "text": [
      "              precision    recall  f1-score   support\n",
      "\n",
      "       False       0.78      0.84      0.81       882\n",
      "        True       0.75      0.67      0.71       641\n",
      "\n",
      "    accuracy                           0.77      1523\n",
      "   macro avg       0.77      0.76      0.76      1523\n",
      "weighted avg       0.77      0.77      0.77      1523\n",
      "\n",
      "0.7701904136572554\n"
     ]
    }
   ],
   "source": [
    "print(classification_report(Y_test,Y_pred))\n",
    "print(accuracy_score(Y_test,Y_pred))"
   ]
  },
  {
   "cell_type": "markdown",
   "metadata": {},
   "source": [
    "Analizamos la importancia de los features."
   ]
  },
  {
   "cell_type": "code",
   "execution_count": 11,
   "metadata": {
    "scrolled": false
   },
   "outputs": [
    {
     "data": {
      "image/png": "[encoded data removed]",
      "text/plain": [
       "<Figure size 1440x576 with 1 Axes>"
      ]
     },
     "metadata": {
      "needs_background": "light"
     },
     "output_type": "display_data"
    }
   ],
   "source": [
    "plt.figure(figsize=(20,8))\n",
    "\n",
    "plt.bar(X.columns, rf_classifier.feature_importances_)\n",
    "\n",
    "plt.xlabel('Features', fontsize=16, fontweight='bold')\n",
    "plt.ylabel('Importancia', fontsize=16, fontweight='bold')\n",
    "plt.title('Importancia de Features con RF', fontsize=20, fontweight='bold')\n",
    "\n",
    "plt.show()"
   ]
  },
  {
   "cell_type": "markdown",
   "metadata": {},
   "source": [
    "###### Predicción"
   ]
  },
  {
   "cell_type": "code",
   "execution_count": 12,
   "metadata": {},
   "outputs": [],
   "source": [
    "registros_a_predecir = test_df.sort_values(by='id',ascending=True).iloc[:,1:]"
   ]
  },
  {
   "cell_type": "code",
   "execution_count": 13,
   "metadata": {},
   "outputs": [],
   "source": [
    "prediccion_RF = rf_classifier.predict(registros_a_predecir)\n",
    "prediccion_RF = prediccion_RF.astype(int)"
   ]
  },
  {
   "cell_type": "markdown",
   "metadata": {},
   "source": [
    "Damos el formato para realizar el submit."
   ]
  },
  {
   "cell_type": "code",
   "execution_count": 14,
   "metadata": {},
   "outputs": [],
   "source": [
    "resultado_RF = pd.DataFrame({'id':sample_submission['id'].values.tolist(),'target':prediccion_RF})"
   ]
  },
  {
   "cell_type": "code",
   "execution_count": 15,
   "metadata": {},
   "outputs": [
    {
     "data": {
      "text/html": [
       "<div>\n",
       "<style scoped>\n",
       "    .dataframe tbody tr th:only-of-type {\n",
       "        vertical-align: middle;\n",
       "    }\n",
       "\n",
       "    .dataframe tbody tr th {\n",
       "        vertical-align: top;\n",
       "    }\n",
       "\n",
       "    .dataframe thead th {\n",
       "        text-align: right;\n",
       "    }\n",
       "</style>\n",
       "<table border=\"1\" class=\"dataframe\">\n",
       "  <thead>\n",
       "    <tr style=\"text-align: right;\">\n",
       "      <th></th>\n",
       "      <th>id</th>\n",
       "      <th>target</th>\n",
       "    </tr>\n",
       "  </thead>\n",
       "  <tbody>\n",
       "    <tr>\n",
       "      <td>0</td>\n",
       "      <td>0</td>\n",
       "      <td>1</td>\n",
       "    </tr>\n",
       "    <tr>\n",
       "      <td>1</td>\n",
       "      <td>2</td>\n",
       "      <td>1</td>\n",
       "    </tr>\n",
       "    <tr>\n",
       "      <td>2</td>\n",
       "      <td>3</td>\n",
       "      <td>0</td>\n",
       "    </tr>\n",
       "    <tr>\n",
       "      <td>3</td>\n",
       "      <td>9</td>\n",
       "      <td>1</td>\n",
       "    </tr>\n",
       "    <tr>\n",
       "      <td>4</td>\n",
       "      <td>11</td>\n",
       "      <td>1</td>\n",
       "    </tr>\n",
       "  </tbody>\n",
       "</table>\n",
       "</div>"
      ],
      "text/plain": [
       "   id  target\n",
       "0   0       1\n",
       "1   2       1\n",
       "2   3       0\n",
       "3   9       1\n",
       "4  11       1"
      ]
     },
     "execution_count": 15,
     "metadata": {},
     "output_type": "execute_result"
    }
   ],
   "source": [
    "resultado_RF.head()"
   ]
  },
  {
   "cell_type": "code",
   "execution_count": 16,
   "metadata": {},
   "outputs": [],
   "source": [
    "resultado_RF.to_csv('prediccion_RF.csv',index=False)"
   ]
  },
  {
   "cell_type": "markdown",
   "metadata": {},
   "source": [
    "### XGBoost"
   ]
  },
  {
   "cell_type": "markdown",
   "metadata": {},
   "source": [
    "###### Entrenamiento"
   ]
  },
  {
   "cell_type": "code",
   "execution_count": 17,
   "metadata": {},
   "outputs": [],
   "source": [
    "from xgboost import XGBClassifier\n",
    "import xgboost as xgb"
   ]
  },
  {
   "cell_type": "code",
   "execution_count": 18,
   "metadata": {},
   "outputs": [
    {
     "data": {
      "text/plain": [
       "XGBClassifier(base_score=0.5, booster='gbtree', colsample_bylevel=1,\n",
       "              colsample_bynode=1, colsample_bytree=0.75, gamma=0, gpu_id=-1,\n",
       "              importance_type='gain', interaction_constraints='',\n",
       "              learning_rate=0.02, max_delta_step=0, max_depth=1,\n",
       "              min_child_weight=1, missing=nan, monotone_constraints='()',\n",
       "              n_estimators=2000, n_jobs=4, nthread=4, num_parallel_tree=1,\n",
       "              objective='binary:logistic', random_state=0, reg_alpha=0,\n",
       "              reg_lambda=1, scale_pos_weight=1, subsample=1,\n",
       "              tree_method='exact', validate_parameters=1, verbosity=None)"
      ]
     },
     "execution_count": 18,
     "metadata": {},
     "output_type": "execute_result"
    }
   ],
   "source": [
    "xgboost = XGBClassifier(max_depth=1,\n",
    "              objective= 'binary:logistic',\n",
    "              nthread=4,n_estimators=2000,\n",
    "              learning_rate=0.02,\n",
    "              colsample_bytree=0.75)\n",
    "xgboost.fit(X_train,Y_train)"
   ]
  },
  {
   "cell_type": "code",
   "execution_count": 19,
   "metadata": {},
   "outputs": [],
   "source": [
    "Y_pred = xgboost.predict(X_test)"
   ]
  },
  {
   "cell_type": "code",
   "execution_count": 20,
   "metadata": {},
   "outputs": [
    {
     "name": "stdout",
     "output_type": "stream",
     "text": [
      "              precision    recall  f1-score   support\n",
      "\n",
      "       False       0.78      0.81      0.80       882\n",
      "        True       0.73      0.68      0.71       641\n",
      "\n",
      "    accuracy                           0.76      1523\n",
      "   macro avg       0.75      0.75      0.75      1523\n",
      "weighted avg       0.76      0.76      0.76      1523\n",
      "\n",
      "0.7590282337491793\n"
     ]
    }
   ],
   "source": [
    "print(classification_report(Y_test,Y_pred))\n",
    "print(accuracy_score(Y_test,Y_pred))"
   ]
  },
  {
   "cell_type": "markdown",
   "metadata": {},
   "source": [
    "Analizamos la importancia de los features con XGBOOST."
   ]
  },
  {
   "cell_type": "code",
   "execution_count": 21,
   "metadata": {},
   "outputs": [
    {
     "data": {
      "text/plain": [
       "<matplotlib.axes._subplots.AxesSubplot at 0x1f69f898908>"
      ]
     },
     "execution_count": 21,
     "metadata": {},
     "output_type": "execute_result"
    },
    {
     "data": {
      "image/png": "[encoded data removed]",
      "text/plain": [
       "<Figure size 1440x576 with 1 Axes>"
      ]
     },
     "metadata": {
      "needs_background": "light"
     },
     "output_type": "display_data"
    }
   ],
   "source": [
    "plt.rcParams['figure.figsize'] = [20, 8]\n",
    "xgb.plot_importance(xgboost)"
   ]
  },
  {
   "cell_type": "markdown",
   "metadata": {},
   "source": [
    "###### Predicción"
   ]
  },
  {
   "cell_type": "code",
   "execution_count": 22,
   "metadata": {},
   "outputs": [],
   "source": [
    "registros_a_predecir = test_df.sort_values(by='id',ascending=True).iloc[:,1:]"
   ]
  },
  {
   "cell_type": "code",
   "execution_count": 23,
   "metadata": {},
   "outputs": [],
   "source": [
    "prediccion_XGB = xgboost.predict(registros_a_predecir)\n",
    "prediccion_XGB = prediccion_XGB.astype(int)"
   ]
  },
  {
   "cell_type": "markdown",
   "metadata": {},
   "source": [
    "Damos el formato para realizar el submit."
   ]
  },
  {
   "cell_type": "code",
   "execution_count": 24,
   "metadata": {},
   "outputs": [],
   "source": [
    "resultado_XGB = pd.DataFrame({'id':sample_submission['id'].values.tolist(),'target':prediccion_XGB})"
   ]
  },
  {
   "cell_type": "code",
   "execution_count": 25,
   "metadata": {},
   "outputs": [
    {
     "data": {
      "text/html": [
       "<div>\n",
       "<style scoped>\n",
       "    .dataframe tbody tr th:only-of-type {\n",
       "        vertical-align: middle;\n",
       "    }\n",
       "\n",
       "    .dataframe tbody tr th {\n",
       "        vertical-align: top;\n",
       "    }\n",
       "\n",
       "    .dataframe thead th {\n",
       "        text-align: right;\n",
       "    }\n",
       "</style>\n",
       "<table border=\"1\" class=\"dataframe\">\n",
       "  <thead>\n",
       "    <tr style=\"text-align: right;\">\n",
       "      <th></th>\n",
       "      <th>id</th>\n",
       "      <th>target</th>\n",
       "    </tr>\n",
       "  </thead>\n",
       "  <tbody>\n",
       "    <tr>\n",
       "      <td>0</td>\n",
       "      <td>0</td>\n",
       "      <td>1</td>\n",
       "    </tr>\n",
       "    <tr>\n",
       "      <td>1</td>\n",
       "      <td>2</td>\n",
       "      <td>1</td>\n",
       "    </tr>\n",
       "    <tr>\n",
       "      <td>2</td>\n",
       "      <td>3</td>\n",
       "      <td>1</td>\n",
       "    </tr>\n",
       "    <tr>\n",
       "      <td>3</td>\n",
       "      <td>9</td>\n",
       "      <td>1</td>\n",
       "    </tr>\n",
       "    <tr>\n",
       "      <td>4</td>\n",
       "      <td>11</td>\n",
       "      <td>1</td>\n",
       "    </tr>\n",
       "  </tbody>\n",
       "</table>\n",
       "</div>"
      ],
      "text/plain": [
       "   id  target\n",
       "0   0       1\n",
       "1   2       1\n",
       "2   3       1\n",
       "3   9       1\n",
       "4  11       1"
      ]
     },
     "execution_count": 25,
     "metadata": {},
     "output_type": "execute_result"
    }
   ],
   "source": [
    "resultado_XGB.head()"
   ]
  },
  {
   "cell_type": "code",
   "execution_count": 26,
   "metadata": {},
   "outputs": [],
   "source": [
    "resultado_XGB.to_csv('prediccion_XGB.csv',index=False)"
   ]
  },
  {
   "cell_type": "markdown",
   "metadata": {},
   "source": [
    "### Perceptrón Multicapa"
   ]
  },
  {
   "cell_type": "markdown",
   "metadata": {},
   "source": [
    "###### Entrenamiento"
   ]
  },
  {
   "cell_type": "code",
   "execution_count": 27,
   "metadata": {},
   "outputs": [],
   "source": [
    "X = train_df.iloc[:,2:]\n",
    "Y = train_df.iloc[:,1]"
   ]
  },
  {
   "cell_type": "code",
   "execution_count": 28,
   "metadata": {},
   "outputs": [],
   "source": [
    "X_train, X_test, Y_train, Y_test = train_test_split(X,Y,test_size=0.2, random_state=1)"
   ]
  },
  {
   "cell_type": "markdown",
   "metadata": {},
   "source": [
    "Normalizamos los campos."
   ]
  },
  {
   "cell_type": "code",
   "execution_count": 29,
   "metadata": {},
   "outputs": [],
   "source": [
    "scaler = StandardScaler()\n",
    "scaler.fit(X_train)\n",
    "X_train = scaler.transform(X_train)\n",
    "X_test = scaler.transform(X_test)"
   ]
  },
  {
   "cell_type": "code",
   "execution_count": 30,
   "metadata": {},
   "outputs": [],
   "source": [
    "from sklearn.neural_network import MLPClassifier\n",
    "\n",
    "mlp = MLPClassifier(hidden_layer_sizes=(10,10,10), max_iter=500, alpha=0.0001,\n",
    "                    solver='adam', random_state=5,tol=0.0000001)\n",
    "mlp.fit(X_train, Y_train)\n",
    "Y_pred = mlp.predict(X_test)"
   ]
  },
  {
   "cell_type": "code",
   "execution_count": 31,
   "metadata": {},
   "outputs": [
    {
     "name": "stdout",
     "output_type": "stream",
     "text": [
      "              precision    recall  f1-score   support\n",
      "\n",
      "       False       0.77      0.84      0.81       882\n",
      "        True       0.76      0.66      0.70       641\n",
      "\n",
      "    accuracy                           0.77      1523\n",
      "   macro avg       0.76      0.75      0.76      1523\n",
      "weighted avg       0.77      0.77      0.76      1523\n",
      "\n",
      "0.7669074195666448\n"
     ]
    }
   ],
   "source": [
    "print(classification_report(Y_test,Y_pred))\n",
    "print(accuracy_score(Y_test,Y_pred))"
   ]
  },
  {
   "cell_type": "markdown",
   "metadata": {},
   "source": [
    "###### Predicción"
   ]
  },
  {
   "cell_type": "code",
   "execution_count": 32,
   "metadata": {},
   "outputs": [],
   "source": [
    "registros_a_predecir = test_df.iloc[:,1:]\n",
    "registros_a_predecir = scaler.transform(registros_a_predecir)"
   ]
  },
  {
   "cell_type": "code",
   "execution_count": 33,
   "metadata": {},
   "outputs": [],
   "source": [
    "prediccion_MLP = mlp.predict(registros_a_predecir)\n",
    "prediccion_MLP = prediccion_MLP.astype(int)"
   ]
  },
  {
   "cell_type": "markdown",
   "metadata": {},
   "source": [
    "Damos el formato para realizar el submit."
   ]
  },
  {
   "cell_type": "code",
   "execution_count": 34,
   "metadata": {},
   "outputs": [],
   "source": [
    "resultado_MLP = pd.DataFrame({'id':sample_submission['id'].values.tolist(),'target':prediccion_MLP})"
   ]
  },
  {
   "cell_type": "code",
   "execution_count": 35,
   "metadata": {},
   "outputs": [
    {
     "data": {
      "text/html": [
       "<div>\n",
       "<style scoped>\n",
       "    .dataframe tbody tr th:only-of-type {\n",
       "        vertical-align: middle;\n",
       "    }\n",
       "\n",
       "    .dataframe tbody tr th {\n",
       "        vertical-align: top;\n",
       "    }\n",
       "\n",
       "    .dataframe thead th {\n",
       "        text-align: right;\n",
       "    }\n",
       "</style>\n",
       "<table border=\"1\" class=\"dataframe\">\n",
       "  <thead>\n",
       "    <tr style=\"text-align: right;\">\n",
       "      <th></th>\n",
       "      <th>id</th>\n",
       "      <th>target</th>\n",
       "    </tr>\n",
       "  </thead>\n",
       "  <tbody>\n",
       "    <tr>\n",
       "      <td>0</td>\n",
       "      <td>0</td>\n",
       "      <td>1</td>\n",
       "    </tr>\n",
       "    <tr>\n",
       "      <td>1</td>\n",
       "      <td>2</td>\n",
       "      <td>1</td>\n",
       "    </tr>\n",
       "    <tr>\n",
       "      <td>2</td>\n",
       "      <td>3</td>\n",
       "      <td>1</td>\n",
       "    </tr>\n",
       "    <tr>\n",
       "      <td>3</td>\n",
       "      <td>9</td>\n",
       "      <td>1</td>\n",
       "    </tr>\n",
       "    <tr>\n",
       "      <td>4</td>\n",
       "      <td>11</td>\n",
       "      <td>1</td>\n",
       "    </tr>\n",
       "  </tbody>\n",
       "</table>\n",
       "</div>"
      ],
      "text/plain": [
       "   id  target\n",
       "0   0       1\n",
       "1   2       1\n",
       "2   3       1\n",
       "3   9       1\n",
       "4  11       1"
      ]
     },
     "execution_count": 35,
     "metadata": {},
     "output_type": "execute_result"
    }
   ],
   "source": [
    "resultado_MLP.head()"
   ]
  },
  {
   "cell_type": "code",
   "execution_count": 36,
   "metadata": {},
   "outputs": [],
   "source": [
    "resultado_MLP.to_csv('prediccion_MLP.csv',index=False)"
   ]
  },
  {
   "cell_type": "markdown",
   "metadata": {},
   "source": [
    "### Redes Convolucionales"
   ]
  },
  {
   "cell_type": "code",
   "execution_count": 5,
   "metadata": {},
   "outputs": [],
   "source": [
    "from keras.models import Sequential,Model\n",
    "from keras.layers import Embedding,LSTM,Dense,SpatialDropout1D,Input,Concatenate\n",
    "from keras.initializers import Constant\n",
    "from keras.optimizers import Adam"
   ]
  },
  {
   "cell_type": "code",
   "execution_count": 6,
   "metadata": {},
   "outputs": [],
   "source": [
    "tweets_padded = pd.read_csv('../Data/tweets_padded.csv', encoding='latin-1')\n",
    "matriz_de_embeddings = pd.read_csv('../Data/matriz_de_embeddings.csv', encoding='latin-1')"
   ]
  },
  {
   "cell_type": "code",
   "execution_count": 7,
   "metadata": {},
   "outputs": [],
   "source": [
    "tweets_padded = tweets_padded.to_numpy()\n",
    "matriz_de_embeddings = matriz_de_embeddings.to_numpy()"
   ]
  },
  {
   "cell_type": "markdown",
   "metadata": {},
   "source": [
    "#### Primer modelo (Solo Embeddings)"
   ]
  },
  {
   "cell_type": "markdown",
   "metadata": {},
   "source": [
    "###### Entrenamiento"
   ]
  },
  {
   "cell_type": "code",
   "execution_count": 40,
   "metadata": {},
   "outputs": [],
   "source": [
    "model = Sequential()\n",
    "\n",
    "model.add(Embedding(18633,100,embeddings_initializer=Constant(matriz_de_embeddings),\\\n",
    "                      input_length = 50,trainable = False))\n",
    "model.add(SpatialDropout1D(0.2))\n",
    "model.add(LSTM(64,dropout=0.2,recurrent_dropout=0.2))\n",
    "model.add(Dense(1,activation='sigmoid'))\n",
    "\n",
    "model.compile(loss='binary_crossentropy',optimizer=Adam(learning_rate=1e-5),metrics=['accuracy'])"
   ]
  },
  {
   "cell_type": "code",
   "execution_count": 41,
   "metadata": {},
   "outputs": [
    {
     "name": "stdout",
     "output_type": "stream",
     "text": [
      "Model: \"sequential\"\n",
      "_________________________________________________________________\n",
      "Layer (type)                 Output Shape              Param #   \n",
      "=================================================================\n",
      "embedding (Embedding)        (None, 50, 100)           1863300   \n",
      "_________________________________________________________________\n",
      "spatial_dropout1d (SpatialDr (None, 50, 100)           0         \n",
      "_________________________________________________________________\n",
      "lstm (LSTM)                  (None, 64)                42240     \n",
      "_________________________________________________________________\n",
      "dense (Dense)                (None, 1)                 65        \n",
      "=================================================================\n",
      "Total params: 1,905,605\n",
      "Trainable params: 42,305\n",
      "Non-trainable params: 1,863,300\n",
      "_________________________________________________________________\n"
     ]
    }
   ],
   "source": [
    "model.summary()"
   ]
  },
  {
   "cell_type": "code",
   "execution_count": 42,
   "metadata": {},
   "outputs": [],
   "source": [
    "train = tweets_padded[:train_df.shape[0]]"
   ]
  },
  {
   "cell_type": "code",
   "execution_count": 43,
   "metadata": {},
   "outputs": [],
   "source": [
    "X_train,X_test,Y_train,Y_test = train_test_split(train,train_df['target'].values,test_size=0.2,random_state=1)"
   ]
  },
  {
   "cell_type": "code",
   "execution_count": 44,
   "metadata": {},
   "outputs": [
    {
     "name": "stdout",
     "output_type": "stream",
     "text": [
      "Epoch 1/15\n",
      "1523/1523 - 64s - loss: 0.6913 - accuracy: 0.5672 - val_loss: 0.6875 - val_accuracy: 0.5791\n",
      "Epoch 2/15\n",
      "1523/1523 - 57s - loss: 0.6457 - accuracy: 0.6256 - val_loss: 0.5619 - val_accuracy: 0.7584\n",
      "Epoch 3/15\n",
      "1523/1523 - 55s - loss: 0.5649 - accuracy: 0.7351 - val_loss: 0.5309 - val_accuracy: 0.7597\n",
      "Epoch 4/15\n",
      "1523/1523 - 52s - loss: 0.5532 - accuracy: 0.7388 - val_loss: 0.5155 - val_accuracy: 0.7597\n",
      "Epoch 5/15\n",
      "1523/1523 - 51s - loss: 0.5348 - accuracy: 0.7479 - val_loss: 0.5050 - val_accuracy: 0.7689\n",
      "Epoch 6/15\n",
      "1523/1523 - 50s - loss: 0.5207 - accuracy: 0.7616 - val_loss: 0.4918 - val_accuracy: 0.7794\n",
      "Epoch 7/15\n",
      "1523/1523 - 50s - loss: 0.5176 - accuracy: 0.7611 - val_loss: 0.4852 - val_accuracy: 0.7814\n",
      "Epoch 8/15\n",
      "1523/1523 - 53s - loss: 0.5041 - accuracy: 0.7709 - val_loss: 0.4798 - val_accuracy: 0.7886\n",
      "Epoch 9/15\n",
      "1523/1523 - 51s - loss: 0.4982 - accuracy: 0.7790 - val_loss: 0.4758 - val_accuracy: 0.7853\n",
      "Epoch 10/15\n",
      "1523/1523 - 52s - loss: 0.5024 - accuracy: 0.7734 - val_loss: 0.4723 - val_accuracy: 0.7919\n",
      "Epoch 11/15\n",
      "1523/1523 - 52s - loss: 0.4949 - accuracy: 0.7780 - val_loss: 0.4689 - val_accuracy: 0.7965\n",
      "Epoch 12/15\n",
      "1523/1523 - 50s - loss: 0.4954 - accuracy: 0.7764 - val_loss: 0.4673 - val_accuracy: 0.7965\n",
      "Epoch 13/15\n",
      "1523/1523 - 57s - loss: 0.4866 - accuracy: 0.7816 - val_loss: 0.4638 - val_accuracy: 0.7965\n",
      "Epoch 14/15\n",
      "1523/1523 - 59s - loss: 0.4938 - accuracy: 0.7767 - val_loss: 0.4625 - val_accuracy: 0.7951\n",
      "Epoch 15/15\n",
      "1523/1523 - 59s - loss: 0.4829 - accuracy: 0.7859 - val_loss: 0.4606 - val_accuracy: 0.7978\n"
     ]
    },
    {
     "data": {
      "text/plain": [
       "<tensorflow.python.keras.callbacks.History at 0x1f6a61872c8>"
      ]
     },
     "execution_count": 44,
     "metadata": {},
     "output_type": "execute_result"
    }
   ],
   "source": [
    "model.fit(X_train,Y_train,batch_size=4,epochs=15,validation_data=(X_test,Y_test),verbose=2)"
   ]
  },
  {
   "cell_type": "code",
   "execution_count": 45,
   "metadata": {},
   "outputs": [
    {
     "name": "stdout",
     "output_type": "stream",
     "text": [
      "Test loss: 0.4605731666088104\n",
      "Test accuracy: 0.7977675795555115\n"
     ]
    }
   ],
   "source": [
    "score = model.evaluate(X_test,Y_test,verbose=0)\n",
    "print('Test loss:', score[0])\n",
    "print('Test accuracy:', score[1])"
   ]
  },
  {
   "cell_type": "markdown",
   "metadata": {},
   "source": [
    "###### Predicción"
   ]
  },
  {
   "cell_type": "code",
   "execution_count": 46,
   "metadata": {},
   "outputs": [],
   "source": [
    "registros_a_predecir = tweets_padded[train_df.shape[0]:]"
   ]
  },
  {
   "cell_type": "code",
   "execution_count": 47,
   "metadata": {},
   "outputs": [],
   "source": [
    "prediccion = model.predict(registros_a_predecir)\n",
    "prediccion = np.round(prediccion).astype(int).reshape(3263)"
   ]
  },
  {
   "cell_type": "code",
   "execution_count": 48,
   "metadata": {},
   "outputs": [],
   "source": [
    "resultado_EM = pd.DataFrame({'id':sample_submission['id'].values.tolist(),'target':prediccion})"
   ]
  },
  {
   "cell_type": "code",
   "execution_count": 49,
   "metadata": {},
   "outputs": [
    {
     "data": {
      "text/html": [
       "<div>\n",
       "<style scoped>\n",
       "    .dataframe tbody tr th:only-of-type {\n",
       "        vertical-align: middle;\n",
       "    }\n",
       "\n",
       "    .dataframe tbody tr th {\n",
       "        vertical-align: top;\n",
       "    }\n",
       "\n",
       "    .dataframe thead th {\n",
       "        text-align: right;\n",
       "    }\n",
       "</style>\n",
       "<table border=\"1\" class=\"dataframe\">\n",
       "  <thead>\n",
       "    <tr style=\"text-align: right;\">\n",
       "      <th></th>\n",
       "      <th>id</th>\n",
       "      <th>target</th>\n",
       "    </tr>\n",
       "  </thead>\n",
       "  <tbody>\n",
       "    <tr>\n",
       "      <td>0</td>\n",
       "      <td>0</td>\n",
       "      <td>1</td>\n",
       "    </tr>\n",
       "    <tr>\n",
       "      <td>1</td>\n",
       "      <td>2</td>\n",
       "      <td>1</td>\n",
       "    </tr>\n",
       "    <tr>\n",
       "      <td>2</td>\n",
       "      <td>3</td>\n",
       "      <td>1</td>\n",
       "    </tr>\n",
       "    <tr>\n",
       "      <td>3</td>\n",
       "      <td>9</td>\n",
       "      <td>1</td>\n",
       "    </tr>\n",
       "    <tr>\n",
       "      <td>4</td>\n",
       "      <td>11</td>\n",
       "      <td>1</td>\n",
       "    </tr>\n",
       "  </tbody>\n",
       "</table>\n",
       "</div>"
      ],
      "text/plain": [
       "   id  target\n",
       "0   0       1\n",
       "1   2       1\n",
       "2   3       1\n",
       "3   9       1\n",
       "4  11       1"
      ]
     },
     "execution_count": 49,
     "metadata": {},
     "output_type": "execute_result"
    }
   ],
   "source": [
    "resultado_EM.head()"
   ]
  },
  {
   "cell_type": "code",
   "execution_count": 50,
   "metadata": {},
   "outputs": [],
   "source": [
    "resultado_EM.to_csv('prediccion_EM.csv',index=False)"
   ]
  },
  {
   "cell_type": "markdown",
   "metadata": {},
   "source": [
    "#### Segundo modelo (Embeddings + features)"
   ]
  },
  {
   "cell_type": "markdown",
   "metadata": {},
   "source": [
    "###### Entrenamiento"
   ]
  },
  {
   "cell_type": "code",
   "execution_count": 8,
   "metadata": {},
   "outputs": [],
   "source": [
    "nlp_input = Input(shape=(50,), name='nlp_input')\n",
    "emb = Embedding(18633,100,embeddings_initializer=Constant(matriz_de_embeddings),trainable = False)(nlp_input)\n",
    "sd = SpatialDropout1D(0.2)(emb)\n",
    "nlp_out = LSTM(64,dropout=0.2,recurrent_dropout=0.2)(sd)\n",
    "\n",
    "features_input = Input(shape=(4,), name='features_input')\n",
    "\n",
    "concat = Concatenate(axis=1)\n",
    "x = concat([nlp_out,features_input])\n",
    "x = Dense(1, activation='sigmoid')(x)\n",
    "\n",
    "model = Model(inputs=[nlp_input,features_input], outputs=[x])\n",
    "model.compile(loss='binary_crossentropy',optimizer=Adam(learning_rate=1e-5),metrics=['accuracy'])"
   ]
  },
  {
   "cell_type": "code",
   "execution_count": 9,
   "metadata": {},
   "outputs": [
    {
     "name": "stdout",
     "output_type": "stream",
     "text": [
      "Model: \"model\"\n",
      "__________________________________________________________________________________________________\n",
      "Layer (type)                    Output Shape         Param #     Connected to                     \n",
      "==================================================================================================\n",
      "nlp_input (InputLayer)          [(None, 50)]         0                                            \n",
      "__________________________________________________________________________________________________\n",
      "embedding (Embedding)           (None, 50, 100)      1863300     nlp_input[0][0]                  \n",
      "__________________________________________________________________________________________________\n",
      "spatial_dropout1d (SpatialDropo (None, 50, 100)      0           embedding[0][0]                  \n",
      "__________________________________________________________________________________________________\n",
      "lstm (LSTM)                     (None, 64)           42240       spatial_dropout1d[0][0]          \n",
      "__________________________________________________________________________________________________\n",
      "features_input (InputLayer)     [(None, 4)]          0                                            \n",
      "__________________________________________________________________________________________________\n",
      "concatenate (Concatenate)       (None, 68)           0           lstm[0][0]                       \n",
      "                                                                 features_input[0][0]             \n",
      "__________________________________________________________________________________________________\n",
      "dense (Dense)                   (None, 1)            69          concatenate[0][0]                \n",
      "==================================================================================================\n",
      "Total params: 1,905,609\n",
      "Trainable params: 42,309\n",
      "Non-trainable params: 1,863,300\n",
      "__________________________________________________________________________________________________\n"
     ]
    }
   ],
   "source": [
    "model.summary()"
   ]
  },
  {
   "cell_type": "code",
   "execution_count": 10,
   "metadata": {},
   "outputs": [],
   "source": [
    "train_embeddings = tweets_padded[:train_df.shape[0]]\n",
    "test_embeddings = tweets_padded[train_df.shape[0]:]"
   ]
  },
  {
   "cell_type": "code",
   "execution_count": 11,
   "metadata": {},
   "outputs": [],
   "source": [
    "train_features = train_df[['cantidad_de_palabras','longitud_del_tweet','keyword_encoded','tfidf_score']].values\n",
    "test_features = test_df[['cantidad_de_palabras','longitud_del_tweet','keyword_encoded','tfidf_score']].values"
   ]
  },
  {
   "cell_type": "code",
   "execution_count": 12,
   "metadata": {},
   "outputs": [],
   "source": [
    "e_train,e_test,f_train,f_test,Y_train,Y_test = train_test_split(train_embeddings,train_features,train_df['target'].values,\\\n",
    "                                                                test_size=0.2,random_state=1)"
   ]
  },
  {
   "cell_type": "code",
   "execution_count": 13,
   "metadata": {},
   "outputs": [],
   "source": [
    "scaler = StandardScaler()\n",
    "scaler.fit(f_train)\n",
    "f_train = scaler.transform(f_train)\n",
    "f_test = scaler.transform(f_test)\n",
    "test_features = scaler.transform(test_features)"
   ]
  },
  {
   "cell_type": "code",
   "execution_count": 16,
   "metadata": {},
   "outputs": [
    {
     "name": "stdout",
     "output_type": "stream",
     "text": [
      "Epoch 1/20\n",
      "1523/1523 - 52s - loss: 0.6214 - accuracy: 0.7112 - val_loss: 0.5913 - val_accuracy: 0.7426\n",
      "Epoch 2/20\n",
      "1523/1523 - 71s - loss: 0.5509 - accuracy: 0.7530 - val_loss: 0.5141 - val_accuracy: 0.7873\n",
      "Epoch 3/20\n",
      "1523/1523 - 67s - loss: 0.5160 - accuracy: 0.7828 - val_loss: 0.4937 - val_accuracy: 0.7833\n",
      "Epoch 4/20\n",
      "1523/1523 - 86s - loss: 0.5052 - accuracy: 0.7709 - val_loss: 0.4812 - val_accuracy: 0.7827\n",
      "Epoch 5/20\n",
      "1523/1523 - 79s - loss: 0.4938 - accuracy: 0.7734 - val_loss: 0.4710 - val_accuracy: 0.7873\n",
      "Epoch 6/20\n",
      "1523/1523 - 59s - loss: 0.4804 - accuracy: 0.7806 - val_loss: 0.4636 - val_accuracy: 0.7879\n",
      "Epoch 7/20\n",
      "1523/1523 - 58s - loss: 0.4780 - accuracy: 0.7801 - val_loss: 0.4595 - val_accuracy: 0.7925\n",
      "Epoch 8/20\n",
      "1523/1523 - 63s - loss: 0.4683 - accuracy: 0.7860 - val_loss: 0.4556 - val_accuracy: 0.7958\n",
      "Epoch 9/20\n",
      "1523/1523 - 61s - loss: 0.4692 - accuracy: 0.7828 - val_loss: 0.4529 - val_accuracy: 0.7965\n",
      "Epoch 10/20\n",
      "1523/1523 - 59s - loss: 0.4644 - accuracy: 0.7824 - val_loss: 0.4493 - val_accuracy: 0.7984\n",
      "Epoch 11/20\n",
      "1523/1523 - 57s - loss: 0.4602 - accuracy: 0.7877 - val_loss: 0.4466 - val_accuracy: 0.7984\n",
      "Epoch 12/20\n",
      "1523/1523 - 54s - loss: 0.4560 - accuracy: 0.7924 - val_loss: 0.4458 - val_accuracy: 0.7978\n",
      "Epoch 13/20\n",
      "1523/1523 - 64s - loss: 0.4566 - accuracy: 0.7918 - val_loss: 0.4429 - val_accuracy: 0.7997\n",
      "Epoch 14/20\n",
      "1523/1523 - 65s - loss: 0.4524 - accuracy: 0.7931 - val_loss: 0.4407 - val_accuracy: 0.7991\n",
      "Epoch 15/20\n",
      "1523/1523 - 62s - loss: 0.4516 - accuracy: 0.7977 - val_loss: 0.4379 - val_accuracy: 0.8017\n",
      "Epoch 16/20\n",
      "1523/1523 - 64s - loss: 0.4498 - accuracy: 0.7939 - val_loss: 0.4362 - val_accuracy: 0.8037\n",
      "Epoch 17/20\n",
      "1523/1523 - 64s - loss: 0.4442 - accuracy: 0.8000 - val_loss: 0.4369 - val_accuracy: 0.8030\n",
      "Epoch 18/20\n",
      "1523/1523 - 65s - loss: 0.4470 - accuracy: 0.7946 - val_loss: 0.4322 - val_accuracy: 0.8024\n",
      "Epoch 19/20\n",
      "1523/1523 - 57s - loss: 0.4436 - accuracy: 0.7989 - val_loss: 0.4323 - val_accuracy: 0.8056\n",
      "Epoch 20/20\n",
      "1523/1523 - 58s - loss: 0.4429 - accuracy: 0.8018 - val_loss: 0.4339 - val_accuracy: 0.8102\n"
     ]
    },
    {
     "data": {
      "text/plain": [
       "<tensorflow.python.keras.callbacks.History at 0x1af8a263e88>"
      ]
     },
     "execution_count": 16,
     "metadata": {},
     "output_type": "execute_result"
    }
   ],
   "source": [
    "model.fit([e_train,f_train],Y_train,batch_size=4,epochs=20,validation_data=([e_test,f_test],Y_test),verbose=2)"
   ]
  },
  {
   "cell_type": "code",
   "execution_count": 17,
   "metadata": {},
   "outputs": [
    {
     "name": "stdout",
     "output_type": "stream",
     "text": [
      "Test loss: 0.43393081426620483\n",
      "Test accuracy: 0.8102429509162903\n"
     ]
    }
   ],
   "source": [
    "score = model.evaluate([e_test,f_test],Y_test,verbose=0)\n",
    "print('Test loss:', score[0])\n",
    "print('Test accuracy:', score[1])"
   ]
  },
  {
   "cell_type": "markdown",
   "metadata": {},
   "source": [
    "###### Predicción"
   ]
  },
  {
   "cell_type": "code",
   "execution_count": 18,
   "metadata": {},
   "outputs": [],
   "source": [
    "registros_a_predecir = [test_embeddings,test_features]"
   ]
  },
  {
   "cell_type": "code",
   "execution_count": 39,
   "metadata": {},
   "outputs": [],
   "source": [
    "prediccion = model.predict(registros_a_predecir)\n",
    "prediccion = np.round(prediccion).astype(int).reshape(3263)"
   ]
  },
  {
   "cell_type": "code",
   "execution_count": 40,
   "metadata": {},
   "outputs": [],
   "source": [
    "resultado_RC = pd.DataFrame({'id':sample_submission['id'].values.tolist(),'target':prediccion})"
   ]
  },
  {
   "cell_type": "code",
   "execution_count": 43,
   "metadata": {},
   "outputs": [
    {
     "data": {
      "text/html": [
       "<div>\n",
       "<style scoped>\n",
       "    .dataframe tbody tr th:only-of-type {\n",
       "        vertical-align: middle;\n",
       "    }\n",
       "\n",
       "    .dataframe tbody tr th {\n",
       "        vertical-align: top;\n",
       "    }\n",
       "\n",
       "    .dataframe thead th {\n",
       "        text-align: right;\n",
       "    }\n",
       "</style>\n",
       "<table border=\"1\" class=\"dataframe\">\n",
       "  <thead>\n",
       "    <tr style=\"text-align: right;\">\n",
       "      <th></th>\n",
       "      <th>id</th>\n",
       "      <th>target</th>\n",
       "    </tr>\n",
       "  </thead>\n",
       "  <tbody>\n",
       "    <tr>\n",
       "      <td>0</td>\n",
       "      <td>0</td>\n",
       "      <td>1</td>\n",
       "    </tr>\n",
       "    <tr>\n",
       "      <td>1</td>\n",
       "      <td>2</td>\n",
       "      <td>1</td>\n",
       "    </tr>\n",
       "    <tr>\n",
       "      <td>2</td>\n",
       "      <td>3</td>\n",
       "      <td>1</td>\n",
       "    </tr>\n",
       "    <tr>\n",
       "      <td>3</td>\n",
       "      <td>9</td>\n",
       "      <td>1</td>\n",
       "    </tr>\n",
       "    <tr>\n",
       "      <td>4</td>\n",
       "      <td>11</td>\n",
       "      <td>1</td>\n",
       "    </tr>\n",
       "  </tbody>\n",
       "</table>\n",
       "</div>"
      ],
      "text/plain": [
       "   id  target\n",
       "0   0       1\n",
       "1   2       1\n",
       "2   3       1\n",
       "3   9       1\n",
       "4  11       1"
      ]
     },
     "execution_count": 43,
     "metadata": {},
     "output_type": "execute_result"
    }
   ],
   "source": [
    "resultado_RC.head()"
   ]
  },
  {
   "cell_type": "code",
   "execution_count": 44,
   "metadata": {},
   "outputs": [],
   "source": [
    "resultado_RC.to_csv('prediccion_RC.csv',index=False)"
   ]
  }
 ],
 "metadata": {
  "kernelspec": {
   "display_name": "Python 3",
   "language": "python",
   "name": "python3"
  },
  "language_info": {
   "codemirror_mode": {
    "name": "ipython",
    "version": 3
   },
   "file_extension": ".py",
   "mimetype": "text/x-python",
   "name": "python",
   "nbconvert_exporter": "python",
   "pygments_lexer": "ipython3",
   "version": "3.7.4"
  }
 },
 "nbformat": 4,
 "nbformat_minor": 2
}
